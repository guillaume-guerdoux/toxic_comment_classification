{
 "cells": [
  {
   "cell_type": "code",
   "execution_count": 1,
   "metadata": {},
   "outputs": [
    {
     "name": "stdout",
     "output_type": "stream",
     "text": [
      "Once deleted, variables cannot be recovered. Proceed (y/[n])? y\n"
     ]
    }
   ],
   "source": [
    "%reset"
   ]
  },
  {
   "cell_type": "code",
   "execution_count": 13,
   "metadata": {},
   "outputs": [
    {
     "name": "stdout",
     "output_type": "stream",
     "text": [
      "[nltk_data] Downloading package wordnet to\n",
      "[nltk_data]     /home/guillaume/nltk_data...\n",
      "[nltk_data]   Package wordnet is already up-to-date!\n"
     ]
    }
   ],
   "source": [
    "import re\n",
    "import time\n",
    "import string\n",
    "import json\n",
    "import math\n",
    "from collections import defaultdict\n",
    "from collections import Counter\n",
    "import itertools\n",
    "\n",
    "import numpy as np\n",
    "import pandas as pd\n",
    "\n",
    "from sklearn.feature_extraction.text import TfidfVectorizer\n",
    "from sklearn.svm import LinearSVC\n",
    "from sklearn.linear_model import LogisticRegression\n",
    "\n",
    "import nltk\n",
    "from nltk.corpus import stopwords\n",
    "from nltk.stem import WordNetLemmatizer\n",
    "from nltk.corpus import stopwords\n",
    "nltk.download('wordnet')\n",
    "word_net_lemmatizer = WordNetLemmatizer()\n",
    "stop_words = set(stopwords.words('english'))"
   ]
  },
  {
   "cell_type": "code",
   "execution_count": 3,
   "metadata": {
    "collapsed": true
   },
   "outputs": [],
   "source": [
    "# Load Data\n",
    "train_data_path = \"data/train.csv\"\n",
    "test_data_path = \"data/test.csv\"\n",
    "\n",
    "train_set = pd.read_csv(train_data_path)\n",
    "test_set = pd.read_csv(test_data_path)"
   ]
  },
  {
   "cell_type": "code",
   "execution_count": 4,
   "metadata": {
    "collapsed": true
   },
   "outputs": [],
   "source": [
    "# Create translator to remove punctuation and digits\n",
    "remove_punctuation = str.maketrans(string.punctuation, ' '*len(string.punctuation))\n",
    "remove_digits = str.maketrans('', '', string.digits)\n",
    "\n",
    "def custom_tokenize(text):\n",
    "    clean_text = text.replace('\\n', ' ')\n",
    "    # Remove punctuation\n",
    "    clean_text = clean_text.translate(remove_punctuation)\n",
    "    # Remove digits\n",
    "    clean_text = clean_text.translate(remove_digits)\n",
    "    # To lowercase\n",
    "    clean_text = clean_text.lower()\n",
    "\n",
    "    split_text = clean_text.split()\n",
    "\n",
    "    treated_text = []\n",
    "    for word in split_text:\n",
    "        lemmatized_word = word_net_lemmatizer.lemmatize(word)\n",
    "        if not lemmatized_word in stop_words and len(lemmatized_word) >= 3:\n",
    "            treated_text.append(lemmatized_word)\n",
    "    return split_text"
   ]
  },
  {
   "cell_type": "code",
   "execution_count": 5,
   "metadata": {
    "collapsed": true
   },
   "outputs": [],
   "source": [
    "tfidf_vectorizer = TfidfVectorizer(\n",
    "    min_df=0.001, max_df=0.95,\n",
    "    max_features=None, strip_accents='unicode',\\\n",
    "    analyzer='word', ngram_range=(1,2), use_idf=1,\\\n",
    "    smooth_idf=1, sublinear_tf=1, tokenizer=custom_tokenize,\n",
    "    stop_words='english')"
   ]
  },
  {
   "cell_type": "code",
   "execution_count": 6,
   "metadata": {},
   "outputs": [
    {
     "data": {
      "text/plain": [
       "TfidfVectorizer(analyzer='word', binary=False, decode_error='strict',\n",
       "        dtype=<class 'numpy.int64'>, encoding='utf-8', input='content',\n",
       "        lowercase=True, max_df=0.95, max_features=None, min_df=0.001,\n",
       "        ngram_range=(1, 2), norm='l2', preprocessor=None, smooth_idf=1,\n",
       "        stop_words='english', strip_accents='unicode', sublinear_tf=1,\n",
       "        token_pattern='(?u)\\\\b\\\\w\\\\w+\\\\b',\n",
       "        tokenizer=<function custom_tokenize at 0x7f25ac022730>, use_idf=1,\n",
       "        vocabulary=None)"
      ]
     },
     "execution_count": 6,
     "metadata": {},
     "output_type": "execute_result"
    }
   ],
   "source": [
    "train_comments = train_set.iloc[:,1]\n",
    "tfidf_vectorizer.fit(train_comments)"
   ]
  },
  {
   "cell_type": "code",
   "execution_count": 7,
   "metadata": {},
   "outputs": [
    {
     "name": "stdout",
     "output_type": "stream",
     "text": [
      "Longueur du vocabulaire :, 4462\n",
      "Longueur des stop words :, 2753614\n"
     ]
    }
   ],
   "source": [
    "print(\"Longueur du vocabulaire :,\", len(tfidf_vectorizer.vocabulary_))\n",
    "print(\"Longueur des stop words :,\", len(tfidf_vectorizer.stop_words_))"
   ]
  },
  {
   "cell_type": "code",
   "execution_count": 8,
   "metadata": {},
   "outputs": [
    {
     "data": {
      "text/plain": [
       "(159571, 6)"
      ]
     },
     "execution_count": 8,
     "metadata": {},
     "output_type": "execute_result"
    }
   ],
   "source": [
    "X_train = tfidf_vectorizer.transform(train_comments)\n",
    "Y_train = train_set[train_set.columns[2:]]\n",
    "Y_train.shape"
   ]
  },
  {
   "cell_type": "code",
   "execution_count": 9,
   "metadata": {
    "collapsed": true
   },
   "outputs": [],
   "source": [
    "test_comments = test_set.iloc[:,1]\n",
    "X_test = tfidf_vectorizer.transform(test_comments)"
   ]
  },
  {
   "cell_type": "code",
   "execution_count": 10,
   "metadata": {
    "collapsed": true
   },
   "outputs": [],
   "source": [
    "toxic_Y_train = Y_train['toxic']\n",
    "\n",
    "severe_toxic_Y_train = Y_train['severe_toxic']\n",
    "\n",
    "obscene_Y_train = Y_train['obscene']\n",
    "\n",
    "threat_Y_train = Y_train['threat']\n",
    "\n",
    "insult_Y_train = Y_train['insult']\n",
    "\n",
    "identity_hate_Y_train = Y_train['identity_hate']"
   ]
  },
  {
   "cell_type": "code",
   "execution_count": 14,
   "metadata": {},
   "outputs": [
    {
     "name": "stdout",
     "output_type": "stream",
     "text": [
      "toxic done\n",
      "severe_toxic done\n",
      "obscene done\n",
      "threat done\n",
      "insult done\n",
      "identity hate done\n"
     ]
    }
   ],
   "source": [
    "toxic_svm = LogisticRegression()\n",
    "toxic_svm.fit(X_train, toxic_Y_train)\n",
    "print(\"toxic done\")\n",
    "severe_toxic_svm = LogisticRegression()\n",
    "severe_toxic_svm.fit(X_train, severe_toxic_Y_train)\n",
    "print(\"severe_toxic done\")\n",
    "obscene_svm = LogisticRegression()\n",
    "obscene_svm.fit(X_train, obscene_Y_train)\n",
    "print(\"obscene done\")\n",
    "threat_svm = LogisticRegression()\n",
    "threat_svm.fit(X_train, threat_Y_train)\n",
    "print(\"threat done\")\n",
    "insult_svm = LogisticRegression()\n",
    "insult_svm.fit(X_train, insult_Y_train)\n",
    "print(\"insult done\")\n",
    "identity_hate_svm = LogisticRegression()\n",
    "identity_hate_svm.fit(X_train, identity_hate_Y_train)\n",
    "print(\"identity hate done\")"
   ]
  },
  {
   "cell_type": "code",
   "execution_count": 18,
   "metadata": {},
   "outputs": [
    {
     "data": {
      "text/plain": [
       "array([1, 0, 0, ..., 0, 0, 1])"
      ]
     },
     "execution_count": 18,
     "metadata": {},
     "output_type": "execute_result"
    }
   ],
   "source": [
    "toxic_svm.predict(X_test)"
   ]
  },
  {
   "cell_type": "code",
   "execution_count": 23,
   "metadata": {},
   "outputs": [
    {
     "name": "stdout",
     "output_type": "stream",
     "text": [
      "[[ 0.00130187  0.99869813]\n",
      " [ 0.98889442  0.01110558]\n",
      " [ 0.9947901   0.0052099 ]\n",
      " ..., \n",
      " [ 0.99345869  0.00654131]\n",
      " [ 0.98603307  0.01396693]\n",
      " [ 0.01098133  0.98901867]]\n"
     ]
    }
   ],
   "source": [
    "a = toxic_svm.predict_proba(X_test)\n",
    "print(a)"
   ]
  },
  {
   "cell_type": "code",
   "execution_count": 22,
   "metadata": {},
   "outputs": [
    {
     "data": {
      "text/plain": [
       "array([ 0.99869813,  0.01110558,  0.0052099 , ...,  0.00654131,\n",
       "        0.01396693,  0.98901867])"
      ]
     },
     "execution_count": 22,
     "metadata": {},
     "output_type": "execute_result"
    }
   ],
   "source": [
    "a[:, 1]"
   ]
  },
  {
   "cell_type": "code",
   "execution_count": null,
   "metadata": {
    "collapsed": true
   },
   "outputs": [],
   "source": []
  },
  {
   "cell_type": "code",
   "execution_count": 24,
   "metadata": {},
   "outputs": [],
   "source": [
    "final_df = pd.DataFrame()\n",
    "final_df['toxic'] = toxic_svm.predict_proba(X_test)[:, 1]\n",
    "final_df['severe_toxic'] = severe_toxic_svm.predict_proba(X_test)[:, 1]\n",
    "final_df['obscene'] = obscene_svm.predict_proba(X_test)[:, 1]\n",
    "final_df['threat'] = threat_svm.predict_proba(X_test)[:, 1]\n",
    "final_df['insult'] = insult_svm.predict_proba(X_test)[:, 1]\n",
    "final_df['identity_hate'] = identity_hate_svm.predict_proba(X_test)[:, 1]"
   ]
  },
  {
   "cell_type": "code",
   "execution_count": 25,
   "metadata": {},
   "outputs": [
    {
     "data": {
      "text/html": [
       "<div>\n",
       "<style>\n",
       "    .dataframe thead tr:only-child th {\n",
       "        text-align: right;\n",
       "    }\n",
       "\n",
       "    .dataframe thead th {\n",
       "        text-align: left;\n",
       "    }\n",
       "\n",
       "    .dataframe tbody tr th {\n",
       "        vertical-align: top;\n",
       "    }\n",
       "</style>\n",
       "<table border=\"1\" class=\"dataframe\">\n",
       "  <thead>\n",
       "    <tr style=\"text-align: right;\">\n",
       "      <th></th>\n",
       "      <th>toxic</th>\n",
       "      <th>severe_toxic</th>\n",
       "      <th>obscene</th>\n",
       "      <th>threat</th>\n",
       "      <th>insult</th>\n",
       "      <th>identity_hate</th>\n",
       "    </tr>\n",
       "  </thead>\n",
       "  <tbody>\n",
       "    <tr>\n",
       "      <th>0</th>\n",
       "      <td>0.998698</td>\n",
       "      <td>0.341085</td>\n",
       "      <td>0.998705</td>\n",
       "      <td>0.056465</td>\n",
       "      <td>0.965762</td>\n",
       "      <td>0.497038</td>\n",
       "    </tr>\n",
       "    <tr>\n",
       "      <th>1</th>\n",
       "      <td>0.011106</td>\n",
       "      <td>0.002353</td>\n",
       "      <td>0.004587</td>\n",
       "      <td>0.001529</td>\n",
       "      <td>0.007880</td>\n",
       "      <td>0.003003</td>\n",
       "    </tr>\n",
       "    <tr>\n",
       "      <th>2</th>\n",
       "      <td>0.005210</td>\n",
       "      <td>0.000942</td>\n",
       "      <td>0.002676</td>\n",
       "      <td>0.000605</td>\n",
       "      <td>0.004825</td>\n",
       "      <td>0.001350</td>\n",
       "    </tr>\n",
       "    <tr>\n",
       "      <th>3</th>\n",
       "      <td>0.005389</td>\n",
       "      <td>0.002309</td>\n",
       "      <td>0.003868</td>\n",
       "      <td>0.001074</td>\n",
       "      <td>0.004389</td>\n",
       "      <td>0.000990</td>\n",
       "    </tr>\n",
       "    <tr>\n",
       "      <th>4</th>\n",
       "      <td>0.062305</td>\n",
       "      <td>0.002992</td>\n",
       "      <td>0.013439</td>\n",
       "      <td>0.002181</td>\n",
       "      <td>0.026345</td>\n",
       "      <td>0.002888</td>\n",
       "    </tr>\n",
       "    <tr>\n",
       "      <th>5</th>\n",
       "      <td>0.012037</td>\n",
       "      <td>0.001407</td>\n",
       "      <td>0.005055</td>\n",
       "      <td>0.000758</td>\n",
       "      <td>0.009451</td>\n",
       "      <td>0.001551</td>\n",
       "    </tr>\n",
       "    <tr>\n",
       "      <th>6</th>\n",
       "      <td>0.007365</td>\n",
       "      <td>0.001333</td>\n",
       "      <td>0.007294</td>\n",
       "      <td>0.000667</td>\n",
       "      <td>0.008109</td>\n",
       "      <td>0.001432</td>\n",
       "    </tr>\n",
       "    <tr>\n",
       "      <th>7</th>\n",
       "      <td>0.567738</td>\n",
       "      <td>0.003073</td>\n",
       "      <td>0.049525</td>\n",
       "      <td>0.003338</td>\n",
       "      <td>0.122666</td>\n",
       "      <td>0.005065</td>\n",
       "    </tr>\n",
       "    <tr>\n",
       "      <th>8</th>\n",
       "      <td>0.022942</td>\n",
       "      <td>0.002102</td>\n",
       "      <td>0.011456</td>\n",
       "      <td>0.002546</td>\n",
       "      <td>0.011198</td>\n",
       "      <td>0.004318</td>\n",
       "    </tr>\n",
       "    <tr>\n",
       "      <th>9</th>\n",
       "      <td>0.010744</td>\n",
       "      <td>0.001120</td>\n",
       "      <td>0.005672</td>\n",
       "      <td>0.001143</td>\n",
       "      <td>0.007471</td>\n",
       "      <td>0.001499</td>\n",
       "    </tr>\n",
       "  </tbody>\n",
       "</table>\n",
       "</div>"
      ],
      "text/plain": [
       "      toxic  severe_toxic   obscene    threat    insult  identity_hate\n",
       "0  0.998698      0.341085  0.998705  0.056465  0.965762       0.497038\n",
       "1  0.011106      0.002353  0.004587  0.001529  0.007880       0.003003\n",
       "2  0.005210      0.000942  0.002676  0.000605  0.004825       0.001350\n",
       "3  0.005389      0.002309  0.003868  0.001074  0.004389       0.000990\n",
       "4  0.062305      0.002992  0.013439  0.002181  0.026345       0.002888\n",
       "5  0.012037      0.001407  0.005055  0.000758  0.009451       0.001551\n",
       "6  0.007365      0.001333  0.007294  0.000667  0.008109       0.001432\n",
       "7  0.567738      0.003073  0.049525  0.003338  0.122666       0.005065\n",
       "8  0.022942      0.002102  0.011456  0.002546  0.011198       0.004318\n",
       "9  0.010744      0.001120  0.005672  0.001143  0.007471       0.001499"
      ]
     },
     "execution_count": 25,
     "metadata": {},
     "output_type": "execute_result"
    }
   ],
   "source": [
    "final_df.head(10)"
   ]
  },
  {
   "cell_type": "code",
   "execution_count": 26,
   "metadata": {
    "collapsed": true
   },
   "outputs": [],
   "source": [
    "submissions = pd.read_csv(\"data/sample_submission.csv\")\n",
    "final_df.insert(0, 'id', submissions['id'])"
   ]
  },
  {
   "cell_type": "code",
   "execution_count": 27,
   "metadata": {},
   "outputs": [
    {
     "data": {
      "text/html": [
       "<div>\n",
       "<style>\n",
       "    .dataframe thead tr:only-child th {\n",
       "        text-align: right;\n",
       "    }\n",
       "\n",
       "    .dataframe thead th {\n",
       "        text-align: left;\n",
       "    }\n",
       "\n",
       "    .dataframe tbody tr th {\n",
       "        vertical-align: top;\n",
       "    }\n",
       "</style>\n",
       "<table border=\"1\" class=\"dataframe\">\n",
       "  <thead>\n",
       "    <tr style=\"text-align: right;\">\n",
       "      <th></th>\n",
       "      <th>id</th>\n",
       "      <th>toxic</th>\n",
       "      <th>severe_toxic</th>\n",
       "      <th>obscene</th>\n",
       "      <th>threat</th>\n",
       "      <th>insult</th>\n",
       "      <th>identity_hate</th>\n",
       "    </tr>\n",
       "  </thead>\n",
       "  <tbody>\n",
       "    <tr>\n",
       "      <th>0</th>\n",
       "      <td>00001cee341fdb12</td>\n",
       "      <td>0.998698</td>\n",
       "      <td>0.341085</td>\n",
       "      <td>0.998705</td>\n",
       "      <td>0.056465</td>\n",
       "      <td>0.965762</td>\n",
       "      <td>0.497038</td>\n",
       "    </tr>\n",
       "    <tr>\n",
       "      <th>1</th>\n",
       "      <td>0000247867823ef7</td>\n",
       "      <td>0.011106</td>\n",
       "      <td>0.002353</td>\n",
       "      <td>0.004587</td>\n",
       "      <td>0.001529</td>\n",
       "      <td>0.007880</td>\n",
       "      <td>0.003003</td>\n",
       "    </tr>\n",
       "    <tr>\n",
       "      <th>2</th>\n",
       "      <td>00013b17ad220c46</td>\n",
       "      <td>0.005210</td>\n",
       "      <td>0.000942</td>\n",
       "      <td>0.002676</td>\n",
       "      <td>0.000605</td>\n",
       "      <td>0.004825</td>\n",
       "      <td>0.001350</td>\n",
       "    </tr>\n",
       "    <tr>\n",
       "      <th>3</th>\n",
       "      <td>00017563c3f7919a</td>\n",
       "      <td>0.005389</td>\n",
       "      <td>0.002309</td>\n",
       "      <td>0.003868</td>\n",
       "      <td>0.001074</td>\n",
       "      <td>0.004389</td>\n",
       "      <td>0.000990</td>\n",
       "    </tr>\n",
       "    <tr>\n",
       "      <th>4</th>\n",
       "      <td>00017695ad8997eb</td>\n",
       "      <td>0.062305</td>\n",
       "      <td>0.002992</td>\n",
       "      <td>0.013439</td>\n",
       "      <td>0.002181</td>\n",
       "      <td>0.026345</td>\n",
       "      <td>0.002888</td>\n",
       "    </tr>\n",
       "    <tr>\n",
       "      <th>5</th>\n",
       "      <td>0001ea8717f6de06</td>\n",
       "      <td>0.012037</td>\n",
       "      <td>0.001407</td>\n",
       "      <td>0.005055</td>\n",
       "      <td>0.000758</td>\n",
       "      <td>0.009451</td>\n",
       "      <td>0.001551</td>\n",
       "    </tr>\n",
       "    <tr>\n",
       "      <th>6</th>\n",
       "      <td>00024115d4cbde0f</td>\n",
       "      <td>0.007365</td>\n",
       "      <td>0.001333</td>\n",
       "      <td>0.007294</td>\n",
       "      <td>0.000667</td>\n",
       "      <td>0.008109</td>\n",
       "      <td>0.001432</td>\n",
       "    </tr>\n",
       "    <tr>\n",
       "      <th>7</th>\n",
       "      <td>000247e83dcc1211</td>\n",
       "      <td>0.567738</td>\n",
       "      <td>0.003073</td>\n",
       "      <td>0.049525</td>\n",
       "      <td>0.003338</td>\n",
       "      <td>0.122666</td>\n",
       "      <td>0.005065</td>\n",
       "    </tr>\n",
       "    <tr>\n",
       "      <th>8</th>\n",
       "      <td>00025358d4737918</td>\n",
       "      <td>0.022942</td>\n",
       "      <td>0.002102</td>\n",
       "      <td>0.011456</td>\n",
       "      <td>0.002546</td>\n",
       "      <td>0.011198</td>\n",
       "      <td>0.004318</td>\n",
       "    </tr>\n",
       "    <tr>\n",
       "      <th>9</th>\n",
       "      <td>00026d1092fe71cc</td>\n",
       "      <td>0.010744</td>\n",
       "      <td>0.001120</td>\n",
       "      <td>0.005672</td>\n",
       "      <td>0.001143</td>\n",
       "      <td>0.007471</td>\n",
       "      <td>0.001499</td>\n",
       "    </tr>\n",
       "  </tbody>\n",
       "</table>\n",
       "</div>"
      ],
      "text/plain": [
       "                 id     toxic  severe_toxic   obscene    threat    insult  \\\n",
       "0  00001cee341fdb12  0.998698      0.341085  0.998705  0.056465  0.965762   \n",
       "1  0000247867823ef7  0.011106      0.002353  0.004587  0.001529  0.007880   \n",
       "2  00013b17ad220c46  0.005210      0.000942  0.002676  0.000605  0.004825   \n",
       "3  00017563c3f7919a  0.005389      0.002309  0.003868  0.001074  0.004389   \n",
       "4  00017695ad8997eb  0.062305      0.002992  0.013439  0.002181  0.026345   \n",
       "5  0001ea8717f6de06  0.012037      0.001407  0.005055  0.000758  0.009451   \n",
       "6  00024115d4cbde0f  0.007365      0.001333  0.007294  0.000667  0.008109   \n",
       "7  000247e83dcc1211  0.567738      0.003073  0.049525  0.003338  0.122666   \n",
       "8  00025358d4737918  0.022942      0.002102  0.011456  0.002546  0.011198   \n",
       "9  00026d1092fe71cc  0.010744      0.001120  0.005672  0.001143  0.007471   \n",
       "\n",
       "   identity_hate  \n",
       "0       0.497038  \n",
       "1       0.003003  \n",
       "2       0.001350  \n",
       "3       0.000990  \n",
       "4       0.002888  \n",
       "5       0.001551  \n",
       "6       0.001432  \n",
       "7       0.005065  \n",
       "8       0.004318  \n",
       "9       0.001499  "
      ]
     },
     "execution_count": 27,
     "metadata": {},
     "output_type": "execute_result"
    }
   ],
   "source": [
    "final_df.head(10)"
   ]
  },
  {
   "cell_type": "code",
   "execution_count": 28,
   "metadata": {
    "collapsed": true
   },
   "outputs": [],
   "source": [
    "final_df.to_csv('out.csv', index = False)"
   ]
  },
  {
   "cell_type": "code",
   "execution_count": 60,
   "metadata": {},
   "outputs": [
    {
     "data": {
      "text/plain": [
       "(153164, 7)"
      ]
     },
     "execution_count": 60,
     "metadata": {},
     "output_type": "execute_result"
    }
   ],
   "source": [
    "final_df.shape"
   ]
  },
  {
   "cell_type": "code",
   "execution_count": null,
   "metadata": {
    "collapsed": true
   },
   "outputs": [],
   "source": []
  }
 ],
 "metadata": {
  "kernelspec": {
   "display_name": "Python 3",
   "language": "python",
   "name": "python3"
  },
  "language_info": {
   "codemirror_mode": {
    "name": "ipython",
    "version": 3
   },
   "file_extension": ".py",
   "mimetype": "text/x-python",
   "name": "python",
   "nbconvert_exporter": "python",
   "pygments_lexer": "ipython3",
   "version": "3.5.2"
  }
 },
 "nbformat": 4,
 "nbformat_minor": 2
}
