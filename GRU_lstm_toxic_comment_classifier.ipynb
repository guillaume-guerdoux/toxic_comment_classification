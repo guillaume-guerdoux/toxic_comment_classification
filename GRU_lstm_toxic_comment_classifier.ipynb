{
 "cells": [
  {
   "cell_type": "markdown",
   "metadata": {},
   "source": [
    "TODO : \n",
    "- Pré processer mes text pour ne plus avoir les trucs pourris avant d'utiliser le tokenizer de keras\n",
    "- Utiliser des embeddings pré réalisés --> Notamment fast text et initialiser ma couche d'embeddings à partir de fast text\n",
    "    https://blog.keras.io/using-pre-trained-word-embeddings-in-a-keras-model.html\n",
    "    https://www.kaggle.com/sbongo/do-pretrained-embeddings-give-you-the-extra-edge\n",
    "    https://www.kaggle.com/mschumacher/using-fasttext-models-for-robust-embeddings\n",
    "    https://www.kaggle.com/sterby/fasttext-like-baseline-with-keras-lb-0-053\n",
    "    \n",
    "- Utiliser un lstm bidirectionnel / GRU\n",
    "    https://www.kaggle.com/CVxTz/keras-bidirectional-lstm-baseline-lb-0-069\n",
    "    https://machinelearningmastery.com/develop-bidirectional-lstm-sequence-classification-python-keras/\n",
    "- Augmenter la profondeur de mon NN\n",
    "- Rajouter des features (taille du texte, nombre de caractères pourris (@-+.) \n",
    "- Essayer avec un CNN \n",
    "- Utiliser des méthodes de bagging et voir ce que ca fait"
   ]
  },
  {
   "cell_type": "code",
   "execution_count": 3,
   "metadata": {},
   "outputs": [
    {
     "name": "stdout",
     "output_type": "stream",
     "text": [
      "Once deleted, variables cannot be recovered. Proceed (y/[n])? y\n"
     ]
    }
   ],
   "source": [
    "%reset"
   ]
  },
  {
   "cell_type": "code",
   "execution_count": 4,
   "metadata": {},
   "outputs": [],
   "source": [
    "import numpy as np\n",
    "import pandas as pd\n",
    "\n",
    "from keras.preprocessing.text import Tokenizer\n",
    "from keras.preprocessing.sequence import pad_sequences\n",
    "from keras.layers import Dense, Input, LSTM, GRU, Embedding, Dropout, Activation\n",
    "from keras.layers import Bidirectional, GlobalMaxPool1D\n",
    "from keras.models import Model\n",
    "from keras import initializers, regularizers, constraints, optimizers, layers\n",
    "from keras.callbacks import EarlyStopping"
   ]
  },
  {
   "cell_type": "code",
   "execution_count": 5,
   "metadata": {
    "collapsed": true
   },
   "outputs": [],
   "source": [
    "# Load Data\n",
    "train_data_path = \"data/train.csv\"\n",
    "test_data_path = \"data/test.csv\"\n",
    "\n",
    "train_set = pd.read_csv(train_data_path)"
   ]
  },
  {
   "cell_type": "code",
   "execution_count": 6,
   "metadata": {
    "collapsed": true
   },
   "outputs": [],
   "source": [
    "list_classes = [\"toxic\", \"severe_toxic\", \"obscene\", \"threat\", \"insult\", \"identity_hate\"]\n",
    "Y_train = train_set[train_set.columns[2:]]\n",
    "list_sentences_train = train_set[\"comment_text\"]"
   ]
  },
  {
   "cell_type": "code",
   "execution_count": 7,
   "metadata": {
    "collapsed": true
   },
   "outputs": [],
   "source": [
    "max_features = 50000\n",
    "tokenizer = Tokenizer(num_words=max_features)\n",
    "tokenizer.fit_on_texts(list(list_sentences_train))\n",
    "\n",
    "list_tokenized_train = tokenizer.texts_to_sequences(list_sentences_train)"
   ]
  },
  {
   "cell_type": "code",
   "execution_count": 8,
   "metadata": {
    "collapsed": true
   },
   "outputs": [],
   "source": [
    "maxlen = 300\n",
    "X_train = pad_sequences(list_tokenized_train, maxlen=maxlen)"
   ]
  },
  {
   "cell_type": "code",
   "execution_count": 9,
   "metadata": {
    "collapsed": true
   },
   "outputs": [],
   "source": [
    "class DataGenerator:\n",
    "    \n",
    "    def __init__(self):\n",
    "        self.index_train = 0\n",
    "    \n",
    "    def generate_data(self, batch_size, train):\n",
    "        while True:\n",
    "            comments = []\n",
    "            labels = []\n",
    "            if self.index_train + batch_size < len(X_train): \n",
    "                comments.append(X_train[self.index_train:self.index_train + batch_size])\n",
    "                labels.append(Y_train[self.index_train:self.index_train + batch_size])\n",
    "                self.index_train += batch_size\n",
    "            else:\n",
    "                rest_train = (self.index_train + batch_size) % len(X_train)\n",
    "                comments = [np.append(X_train[self.index_train:], X_train[:rest_train], axis=0)]\n",
    "                labels = [np.append(Y_train[self.index_train:], Y_train[:rest_train], axis=0)]\n",
    "                self.index_train = rest_train\n",
    "            yield comments, labels"
   ]
  },
  {
   "cell_type": "code",
   "execution_count": 10,
   "metadata": {
    "collapsed": true
   },
   "outputs": [],
   "source": [
    "embed_size = 128\n",
    "input_layer = Input(shape=(maxlen,))\n",
    "embed_layer = Embedding(max_features, embed_size)(input_layer)\n",
    "x = GRU(64, return_sequences=True, name='gru_layer')(embed_layer)\n",
    "x = GlobalMaxPool1D()(x)\n",
    "x = Dropout(0.2)(x)\n",
    "x = Dense(128, activation=\"relu\")(x)\n",
    "x = Dropout(0.2)(x)\n",
    "x = Dense(len(list_classes), activation=\"sigmoid\")(x)"
   ]
  },
  {
   "cell_type": "code",
   "execution_count": 11,
   "metadata": {
    "collapsed": true
   },
   "outputs": [],
   "source": [
    "# define early stopping callback\n",
    "earlystop = EarlyStopping(monitor='val_acc', min_delta=0.0001, patience=5)\n",
    "callbacks_list = [earlystop]"
   ]
  },
  {
   "cell_type": "code",
   "execution_count": 12,
   "metadata": {
    "collapsed": true
   },
   "outputs": [],
   "source": [
    "model = Model(inputs=input_layer, outputs=x)\n",
    "model.compile(loss='binary_crossentropy',\n",
    "                  optimizer='adam',\n",
    "                  metrics=['accuracy'])"
   ]
  },
  {
   "cell_type": "code",
   "execution_count": 13,
   "metadata": {},
   "outputs": [
    {
     "name": "stdout",
     "output_type": "stream",
     "text": [
      "_________________________________________________________________\n",
      "Layer (type)                 Output Shape              Param #   \n",
      "=================================================================\n",
      "input_1 (InputLayer)         (None, 300)               0         \n",
      "_________________________________________________________________\n",
      "embedding_1 (Embedding)      (None, 300, 128)          6400000   \n",
      "_________________________________________________________________\n",
      "gru_layer (GRU)              (None, 300, 64)           37056     \n",
      "_________________________________________________________________\n",
      "global_max_pooling1d_1 (Glob (None, 64)                0         \n",
      "_________________________________________________________________\n",
      "dropout_1 (Dropout)          (None, 64)                0         \n",
      "_________________________________________________________________\n",
      "dense_1 (Dense)              (None, 128)               8320      \n",
      "_________________________________________________________________\n",
      "dropout_2 (Dropout)          (None, 128)               0         \n",
      "_________________________________________________________________\n",
      "dense_2 (Dense)              (None, 6)                 774       \n",
      "=================================================================\n",
      "Total params: 6,446,150\n",
      "Trainable params: 6,446,150\n",
      "Non-trainable params: 0\n",
      "_________________________________________________________________\n"
     ]
    }
   ],
   "source": [
    "model.summary()"
   ]
  },
  {
   "cell_type": "code",
   "execution_count": 14,
   "metadata": {
    "collapsed": true
   },
   "outputs": [],
   "source": [
    "data_generator = DataGenerator()"
   ]
  },
  {
   "cell_type": "code",
   "execution_count": 16,
   "metadata": {
    "scrolled": false
   },
   "outputs": [
    {
     "name": "stderr",
     "output_type": "stream",
     "text": [
      "/home/guillaume/.local/lib/python3.5/site-packages/ipykernel_launcher.py:4: UserWarning: The semantics of the Keras 2 argument `steps_per_epoch` is not the same as the Keras 1 argument `samples_per_epoch`. `steps_per_epoch` is the number of batches to draw from the generator at each epoch. Basically steps_per_epoch = samples_per_epoch/batch_size. Similarly `nb_val_samples`->`validation_steps` and `val_samples`->`steps` arguments have changed. Update your method calls accordingly.\n",
      "  after removing the cwd from sys.path.\n",
      "/home/guillaume/.local/lib/python3.5/site-packages/ipykernel_launcher.py:4: UserWarning: Update your `fit_generator` call to the Keras 2 API: `fit_generator(<generator..., epochs=20, steps_per_epoch=200)`\n",
      "  after removing the cwd from sys.path.\n"
     ]
    },
    {
     "name": "stdout",
     "output_type": "stream",
     "text": [
      "Epoch 1/20\n",
      "200/200 [==============================] - 54s 271ms/step - loss: 0.0425 - acc: 0.9842\n",
      "Epoch 2/20\n",
      "200/200 [==============================] - 49s 244ms/step - loss: 0.0421 - acc: 0.9840\n",
      "Epoch 3/20\n",
      "200/200 [==============================] - 56s 278ms/step - loss: 0.0437 - acc: 0.9836\n",
      "Epoch 4/20\n",
      "200/200 [==============================] - 50s 252ms/step - loss: 0.0393 - acc: 0.9848\n",
      "Epoch 5/20\n",
      "200/200 [==============================] - 51s 254ms/step - loss: 0.0433 - acc: 0.9835\n",
      "Epoch 6/20\n",
      "200/200 [==============================] - 52s 258ms/step - loss: 0.0400 - acc: 0.9842\n",
      "Epoch 7/20\n",
      "200/200 [==============================] - 53s 265ms/step - loss: 0.0407 - acc: 0.9842\n",
      "Epoch 8/20\n",
      "200/200 [==============================] - 57s 284ms/step - loss: 0.0370 - acc: 0.9850\n",
      "Epoch 9/20\n",
      "200/200 [==============================] - 58s 290ms/step - loss: 0.0360 - acc: 0.9864\n",
      "Epoch 10/20\n",
      "200/200 [==============================] - 54s 269ms/step - loss: 0.0377 - acc: 0.9855\n",
      "Epoch 11/20\n",
      "200/200 [==============================] - 55s 275ms/step - loss: 0.0359 - acc: 0.9860\n",
      "Epoch 12/20\n",
      "200/200 [==============================] - 51s 253ms/step - loss: 0.0359 - acc: 0.9862\n",
      "Epoch 13/20\n",
      "200/200 [==============================] - 55s 277ms/step - loss: 0.0355 - acc: 0.9863\n",
      "Epoch 14/20\n",
      "200/200 [==============================] - 52s 258ms/step - loss: 0.0366 - acc: 0.9863\n",
      "Epoch 15/20\n",
      "200/200 [==============================] - 50s 250ms/step - loss: 0.0363 - acc: 0.9859\n",
      "Epoch 16/20\n",
      "200/200 [==============================] - 53s 266ms/step - loss: 0.0332 - acc: 0.9871\n",
      "Epoch 17/20\n",
      "200/200 [==============================] - 55s 273ms/step - loss: 0.0370 - acc: 0.9856\n",
      "Epoch 18/20\n",
      "200/200 [==============================] - 55s 275ms/step - loss: 0.0356 - acc: 0.9859\n",
      "Epoch 19/20\n",
      "200/200 [==============================] - 52s 258ms/step - loss: 0.0334 - acc: 0.9868\n",
      "Epoch 20/20\n",
      "200/200 [==============================] - 54s 268ms/step - loss: 0.0324 - acc: 0.9868\n"
     ]
    }
   ],
   "source": [
    "batch_size = 64\n",
    "epochs = 20\n",
    "model_info = model.fit_generator(data_generator.generate_data(batch_size,True),\n",
    "                        samples_per_epoch=200, nb_epoch=epochs)"
   ]
  },
  {
   "cell_type": "code",
   "execution_count": 17,
   "metadata": {
    "collapsed": true
   },
   "outputs": [],
   "source": [
    "# Save model\n",
    "model.save('gru_toxic_comments_classifier.h5')"
   ]
  },
  {
   "cell_type": "code",
   "execution_count": 24,
   "metadata": {},
   "outputs": [
    {
     "name": "stdout",
     "output_type": "stream",
     "text": [
      "159571/159571 [==============================] - 798s 5ms/step\n"
     ]
    },
    {
     "data": {
      "text/plain": [
       "[0.04652112938131759, 0.98278716955049805]"
      ]
     },
     "execution_count": 24,
     "metadata": {},
     "output_type": "execute_result"
    }
   ],
   "source": [
    "model.evaluate(X_train, Y_train)"
   ]
  },
  {
   "cell_type": "code",
   "execution_count": 18,
   "metadata": {
    "collapsed": true
   },
   "outputs": [],
   "source": [
    "test_set = pd.read_csv(test_data_path)\n",
    "list_sentences_test = test_set[\"comment_text\"]\n",
    "\n",
    "list_tokenized_test = tokenizer.texts_to_sequences(list_sentences_test)\n",
    "\n",
    "maxlen = 300\n",
    "X_test = pad_sequences(list_tokenized_test, maxlen=maxlen)"
   ]
  },
  {
   "cell_type": "code",
   "execution_count": 19,
   "metadata": {
    "collapsed": true
   },
   "outputs": [],
   "source": [
    "Y_test = model.predict(X_test)"
   ]
  },
  {
   "cell_type": "code",
   "execution_count": 20,
   "metadata": {},
   "outputs": [
    {
     "data": {
      "text/plain": [
       "(153164, 6)"
      ]
     },
     "execution_count": 20,
     "metadata": {},
     "output_type": "execute_result"
    }
   ],
   "source": [
    "Y_test.shape"
   ]
  },
  {
   "cell_type": "code",
   "execution_count": 21,
   "metadata": {
    "collapsed": true
   },
   "outputs": [],
   "source": [
    "final_df = pd.DataFrame()"
   ]
  },
  {
   "cell_type": "code",
   "execution_count": 22,
   "metadata": {
    "collapsed": true
   },
   "outputs": [],
   "source": [
    "final_df['toxic'] = Y_test[:, 0]\n",
    "final_df['severe_toxic'] = Y_test[:, 1]\n",
    "final_df['obscene'] = Y_test[:, 2]\n",
    "final_df['threat'] = Y_test[:, 3]\n",
    "final_df['insult'] = Y_test[:, 4]\n",
    "final_df['identity_hate'] = Y_test[:, 5]"
   ]
  },
  {
   "cell_type": "code",
   "execution_count": 23,
   "metadata": {},
   "outputs": [
    {
     "data": {
      "text/html": [
       "<div>\n",
       "<style>\n",
       "    .dataframe thead tr:only-child th {\n",
       "        text-align: right;\n",
       "    }\n",
       "\n",
       "    .dataframe thead th {\n",
       "        text-align: left;\n",
       "    }\n",
       "\n",
       "    .dataframe tbody tr th {\n",
       "        vertical-align: top;\n",
       "    }\n",
       "</style>\n",
       "<table border=\"1\" class=\"dataframe\">\n",
       "  <thead>\n",
       "    <tr style=\"text-align: right;\">\n",
       "      <th></th>\n",
       "      <th>toxic</th>\n",
       "      <th>severe_toxic</th>\n",
       "      <th>obscene</th>\n",
       "      <th>threat</th>\n",
       "      <th>insult</th>\n",
       "      <th>identity_hate</th>\n",
       "    </tr>\n",
       "  </thead>\n",
       "  <tbody>\n",
       "    <tr>\n",
       "      <th>0</th>\n",
       "      <td>0.999713</td>\n",
       "      <td>5.007983e-01</td>\n",
       "      <td>0.993811</td>\n",
       "      <td>1.249188e-01</td>\n",
       "      <td>9.719996e-01</td>\n",
       "      <td>2.779484e-01</td>\n",
       "    </tr>\n",
       "    <tr>\n",
       "      <th>1</th>\n",
       "      <td>0.000009</td>\n",
       "      <td>3.886579e-10</td>\n",
       "      <td>0.000006</td>\n",
       "      <td>2.055729e-08</td>\n",
       "      <td>8.452794e-07</td>\n",
       "      <td>1.429677e-08</td>\n",
       "    </tr>\n",
       "    <tr>\n",
       "      <th>2</th>\n",
       "      <td>0.000063</td>\n",
       "      <td>4.374673e-08</td>\n",
       "      <td>0.000043</td>\n",
       "      <td>2.233486e-06</td>\n",
       "      <td>8.512913e-06</td>\n",
       "      <td>3.693515e-07</td>\n",
       "    </tr>\n",
       "    <tr>\n",
       "      <th>3</th>\n",
       "      <td>0.000253</td>\n",
       "      <td>1.019396e-08</td>\n",
       "      <td>0.000027</td>\n",
       "      <td>8.840391e-07</td>\n",
       "      <td>1.756022e-05</td>\n",
       "      <td>5.647765e-07</td>\n",
       "    </tr>\n",
       "    <tr>\n",
       "      <th>4</th>\n",
       "      <td>0.000111</td>\n",
       "      <td>6.166028e-09</td>\n",
       "      <td>0.000023</td>\n",
       "      <td>4.898149e-07</td>\n",
       "      <td>5.668001e-06</td>\n",
       "      <td>2.268521e-07</td>\n",
       "    </tr>\n",
       "  </tbody>\n",
       "</table>\n",
       "</div>"
      ],
      "text/plain": [
       "      toxic  severe_toxic   obscene        threat        insult  identity_hate\n",
       "0  0.999713  5.007983e-01  0.993811  1.249188e-01  9.719996e-01   2.779484e-01\n",
       "1  0.000009  3.886579e-10  0.000006  2.055729e-08  8.452794e-07   1.429677e-08\n",
       "2  0.000063  4.374673e-08  0.000043  2.233486e-06  8.512913e-06   3.693515e-07\n",
       "3  0.000253  1.019396e-08  0.000027  8.840391e-07  1.756022e-05   5.647765e-07\n",
       "4  0.000111  6.166028e-09  0.000023  4.898149e-07  5.668001e-06   2.268521e-07"
      ]
     },
     "execution_count": 23,
     "metadata": {},
     "output_type": "execute_result"
    }
   ],
   "source": [
    "final_df.head()"
   ]
  },
  {
   "cell_type": "code",
   "execution_count": 24,
   "metadata": {
    "collapsed": true
   },
   "outputs": [],
   "source": [
    "submissions = pd.read_csv(\"data/sample_submission.csv\")\n",
    "final_df.insert(0, 'id', submissions['id'])"
   ]
  },
  {
   "cell_type": "code",
   "execution_count": 25,
   "metadata": {},
   "outputs": [
    {
     "data": {
      "text/html": [
       "<div>\n",
       "<style>\n",
       "    .dataframe thead tr:only-child th {\n",
       "        text-align: right;\n",
       "    }\n",
       "\n",
       "    .dataframe thead th {\n",
       "        text-align: left;\n",
       "    }\n",
       "\n",
       "    .dataframe tbody tr th {\n",
       "        vertical-align: top;\n",
       "    }\n",
       "</style>\n",
       "<table border=\"1\" class=\"dataframe\">\n",
       "  <thead>\n",
       "    <tr style=\"text-align: right;\">\n",
       "      <th></th>\n",
       "      <th>id</th>\n",
       "      <th>toxic</th>\n",
       "      <th>severe_toxic</th>\n",
       "      <th>obscene</th>\n",
       "      <th>threat</th>\n",
       "      <th>insult</th>\n",
       "      <th>identity_hate</th>\n",
       "    </tr>\n",
       "  </thead>\n",
       "  <tbody>\n",
       "    <tr>\n",
       "      <th>0</th>\n",
       "      <td>00001cee341fdb12</td>\n",
       "      <td>0.999713</td>\n",
       "      <td>5.007983e-01</td>\n",
       "      <td>0.993811</td>\n",
       "      <td>1.249188e-01</td>\n",
       "      <td>9.719996e-01</td>\n",
       "      <td>2.779484e-01</td>\n",
       "    </tr>\n",
       "    <tr>\n",
       "      <th>1</th>\n",
       "      <td>0000247867823ef7</td>\n",
       "      <td>0.000009</td>\n",
       "      <td>3.886579e-10</td>\n",
       "      <td>0.000006</td>\n",
       "      <td>2.055729e-08</td>\n",
       "      <td>8.452794e-07</td>\n",
       "      <td>1.429677e-08</td>\n",
       "    </tr>\n",
       "    <tr>\n",
       "      <th>2</th>\n",
       "      <td>00013b17ad220c46</td>\n",
       "      <td>0.000063</td>\n",
       "      <td>4.374673e-08</td>\n",
       "      <td>0.000043</td>\n",
       "      <td>2.233486e-06</td>\n",
       "      <td>8.512913e-06</td>\n",
       "      <td>3.693515e-07</td>\n",
       "    </tr>\n",
       "    <tr>\n",
       "      <th>3</th>\n",
       "      <td>00017563c3f7919a</td>\n",
       "      <td>0.000253</td>\n",
       "      <td>1.019396e-08</td>\n",
       "      <td>0.000027</td>\n",
       "      <td>8.840391e-07</td>\n",
       "      <td>1.756022e-05</td>\n",
       "      <td>5.647765e-07</td>\n",
       "    </tr>\n",
       "    <tr>\n",
       "      <th>4</th>\n",
       "      <td>00017695ad8997eb</td>\n",
       "      <td>0.000111</td>\n",
       "      <td>6.166028e-09</td>\n",
       "      <td>0.000023</td>\n",
       "      <td>4.898149e-07</td>\n",
       "      <td>5.668001e-06</td>\n",
       "      <td>2.268521e-07</td>\n",
       "    </tr>\n",
       "  </tbody>\n",
       "</table>\n",
       "</div>"
      ],
      "text/plain": [
       "                 id     toxic  severe_toxic   obscene        threat  \\\n",
       "0  00001cee341fdb12  0.999713  5.007983e-01  0.993811  1.249188e-01   \n",
       "1  0000247867823ef7  0.000009  3.886579e-10  0.000006  2.055729e-08   \n",
       "2  00013b17ad220c46  0.000063  4.374673e-08  0.000043  2.233486e-06   \n",
       "3  00017563c3f7919a  0.000253  1.019396e-08  0.000027  8.840391e-07   \n",
       "4  00017695ad8997eb  0.000111  6.166028e-09  0.000023  4.898149e-07   \n",
       "\n",
       "         insult  identity_hate  \n",
       "0  9.719996e-01   2.779484e-01  \n",
       "1  8.452794e-07   1.429677e-08  \n",
       "2  8.512913e-06   3.693515e-07  \n",
       "3  1.756022e-05   5.647765e-07  \n",
       "4  5.668001e-06   2.268521e-07  "
      ]
     },
     "execution_count": 25,
     "metadata": {},
     "output_type": "execute_result"
    }
   ],
   "source": [
    "final_df.head()"
   ]
  },
  {
   "cell_type": "code",
   "execution_count": 26,
   "metadata": {
    "collapsed": true
   },
   "outputs": [],
   "source": [
    "final_df.to_csv('lstm_df.csv', index = False)"
   ]
  },
  {
   "cell_type": "code",
   "execution_count": null,
   "metadata": {
    "collapsed": true
   },
   "outputs": [],
   "source": []
  }
 ],
 "metadata": {
  "kernelspec": {
   "display_name": "Python 3",
   "language": "python",
   "name": "python3"
  },
  "language_info": {
   "codemirror_mode": {
    "name": "ipython",
    "version": 3
   },
   "file_extension": ".py",
   "mimetype": "text/x-python",
   "name": "python",
   "nbconvert_exporter": "python",
   "pygments_lexer": "ipython3",
   "version": "3.5.2"
  }
 },
 "nbformat": 4,
 "nbformat_minor": 2
}
